{
 "cells": [
  {
   "cell_type": "code",
   "execution_count": 17,
   "metadata": {},
   "outputs": [
    {
     "name": "stdout",
     "output_type": "stream",
     "text": [
      "LARGEST element in list is 92\n",
      "SECOND LARGEST element in list is 48\n"
     ]
    }
   ],
   "source": [
    "#program 1\n",
    "#a\n",
    "a=[2,23,48,29,42,92,9,8,27]\n",
    "a.sort()\n",
    "print(\"LARGEST element in list is\",a[-1])\n",
    "print(\"SECOND LARGEST element in list is\",a[-2])\n"
   ]
  },
  {
   "cell_type": "code",
   "execution_count": 8,
   "metadata": {},
   "outputs": [
    {
     "name": "stdout",
     "output_type": "stream",
     "text": [
      "[27, 23, 48, 29, 42, 92, 9, 8, 2]\n"
     ]
    }
   ],
   "source": [
    "#b\n",
    "a=[2,23,48,29,42,92,9,8,27]\n",
    "temp=a[0]\n",
    "a[0]=a[-1]\n",
    "a[-1]=temp\n",
    "print(a)"
   ]
  },
  {
   "cell_type": "code",
   "execution_count": 13,
   "metadata": {},
   "outputs": [
    {
     "name": "stdout",
     "output_type": "stream",
     "text": [
      "[2, 3, 4, 8, 8, 9, 9, 23, 27, 29, 42, 48, 92]\n"
     ]
    }
   ],
   "source": [
    "#Program 2\n",
    "a=[2,23,48,29,42,92,9,8,27]\n",
    "b=[3,4,8,9]\n",
    "c=a+b\n",
    "c.sort()\n",
    "print(c)"
   ]
  },
  {
   "cell_type": "code",
   "execution_count": 30,
   "metadata": {},
   "outputs": [
    {
     "name": "stdout",
     "output_type": "stream",
     "text": [
      "UNION of list is:  [2, 23, 48, 29, 42, 92, 9, 8, 27, 3, 4, 8, 9]\n",
      "INTERSECTION of list is [8, 9]\n"
     ]
    }
   ],
   "source": [
    "#Program 3\n",
    "a=[2,23,48,29,42,92,9,8,27]\n",
    "b=[3,4,8,9]\n",
    "c=a+b\n",
    "d=list(set(a) & set(b))\n",
    "\n",
    "print('UNION of list is: ', c)\n",
    "print('INTERSECTION of list is', d)\n"
   ]
  },
  {
   "cell_type": "code",
   "execution_count": 35,
   "metadata": {},
   "outputs": [
    {
     "name": "stdout",
     "output_type": "stream",
     "text": [
      "THIRD element is 48\n",
      "SIXTH element is 92\n",
      "FIRST FIVE elements are [2, 23, 48, 29, 42]\n",
      "7th to end elements are [9, 8, 27]\n",
      "[2, 'x', 48, 29, 'y', 92, 9, 8, 27]\n",
      "[2, 'x', 48, 29, 92, 9, 8, 27]\n",
      "8\n"
     ]
    }
   ],
   "source": [
    "#Program 4\n",
    "#a\n",
    "a=[2,23,48,29,42,92,9,8,27]\n",
    "print('THIRD element is', a[2])\n",
    "print('SIXTH element is', a[5])\n",
    "\n",
    "#b\n",
    "print('FIRST FIVE elements are', a[:5])\n",
    "\n",
    "#c\n",
    "print('7th to end elements are', a[6:])\n",
    "\n",
    "#d\n",
    "a[1]='x'\n",
    "a[4]='y'\n",
    "print(a)\n",
    "\n",
    "#e\n",
    "del a[4]\n",
    "print(a)\n",
    "\n",
    "#f\n",
    "print(len(a))"
   ]
  },
  {
   "cell_type": "code",
   "execution_count": 55,
   "metadata": {},
   "outputs": [
    {
     "name": "stdout",
     "output_type": "stream",
     "text": [
      "2\n",
      "92\n",
      "29\n"
     ]
    }
   ],
   "source": [
    "#Program 5\n",
    "a=[2,23,48,29,42,92,9,8,27,9]\n",
    "print(a.count(9))\n",
    "c=max(x for x in a if x%2==0)\n",
    "print(c)\n",
    "d=max(x for x in a if x%2!=0)\n",
    "print(d)\n"
   ]
  },
  {
   "cell_type": "code",
   "execution_count": 67,
   "metadata": {},
   "outputs": [
    {
     "name": "stdout",
     "output_type": "stream",
     "text": [
      "Enter the lower range: 1\n",
      "Enter the upper range: 4\n",
      "[(1, 1), (2, 4), (3, 9), (4, 16)]\n"
     ]
    }
   ],
   "source": [
    "#Program 6\n",
    "a=int(input('Enter the lower range: '))\n",
    "b=int(input('Enter the upper range: '))\n",
    "\n",
    "c=[(x,x**2) for x in range(a,b+1)]\n",
    "print(c)"
   ]
  },
  {
   "cell_type": "code",
   "execution_count": 64,
   "metadata": {},
   "outputs": [
    {
     "name": "stdout",
     "output_type": "stream",
     "text": [
      "[2, 23, 48, 29, 42, 92, 9, 8, 27, 9, 18, 5, 12, 15, 4]\n"
     ]
    }
   ],
   "source": [
    "#Program 7\n",
    "import random\n",
    "a=[2,23,48,29,42,92,9,8,27,9]\n",
    "for x in range(5):\n",
    "    c= random.randint(1,20)\n",
    "    a.append(c)\n",
    "print(a)"
   ]
  },
  {
   "cell_type": "code",
   "execution_count": 7,
   "metadata": {
    "scrolled": true
   },
   "outputs": [
    {
     "name": "stdout",
     "output_type": "stream",
     "text": [
      "Enter coeffecient: \n",
      "Enter the coefficient: 4\n",
      "Enter the coefficient: 6\n",
      "Enter the coefficient: 9\n",
      "Enter the coefficient: 2\n",
      "Enter the value of x: 4\n",
      "394.0\n"
     ]
    }
   ],
   "source": [
    "#Program 8\n",
    "import math\n",
    "print('Enter coeffecient: ')\n",
    "l=[]\n",
    "for i in range(0,4):\n",
    "    a=int(input('Enter the coefficient: '))\n",
    "    l.append(a)\n",
    "x=int(input('Enter the value of x: '))\n",
    "sum=0\n",
    "j=3\n",
    "for i in range(0,3):\n",
    "        while(j>0):\n",
    "            sum=sum+(l[i]*math.pow(x,j))\n",
    "            break\n",
    "        j=j-1\n",
    "        sum=sum+l[3]\n",
    "print(sum)"
   ]
  },
  {
   "cell_type": "code",
   "execution_count": 1,
   "metadata": {},
   "outputs": [
    {
     "name": "stdout",
     "output_type": "stream",
     "text": [
      "Enter the lower range: 1\n",
      "Enter the upper range: 100\n",
      "1\n",
      "4\n",
      "9\n",
      "16\n",
      "25\n",
      "36\n",
      "81\n",
      "100\n"
     ]
    }
   ],
   "source": [
    "#Program 9\n",
    "import math\n",
    "def digisum(z):\n",
    "    s=0 \n",
    "    while z>0:\n",
    "            n=z%10\n",
    "            s=s+n\n",
    "            z=z//10\n",
    "    return s\n",
    "    \n",
    "    \n",
    "#sum=0\n",
    "a=int(input('Enter the lower range: '))\n",
    "b=int(input('Enter the upper range: '))\n",
    "for x in range(a,b+1):\n",
    "    c=int(math.sqrt(x))\n",
    "    d=digisum(x)\n",
    "    if c*c==x and d<10:\n",
    "        print(x)  \n"
   ]
  },
  {
   "cell_type": "code",
   "execution_count": 153,
   "metadata": {
    "scrolled": false
   },
   "outputs": [
    {
     "name": "stdout",
     "output_type": "stream",
     "text": [
      "[2, 25, 73, 102, 144, 236, 245, 253, 280, 289]\n"
     ]
    }
   ],
   "source": [
    "#Program 10\n",
    "a=[2,23,48,29,42,92,9,8,27,9]\n",
    "n=len(a)\n",
    "for x in range(0,n):\n",
    "            c=[sum(a[:x+1]) for x in range(0,n)]\n",
    "print(c)"
   ]
  }
 ],
 "metadata": {
  "kernelspec": {
   "display_name": "Python 3",
   "language": "python",
   "name": "python3"
  },
  "language_info": {
   "codemirror_mode": {
    "name": "ipython",
    "version": 3
   },
   "file_extension": ".py",
   "mimetype": "text/x-python",
   "name": "python",
   "nbconvert_exporter": "python",
   "pygments_lexer": "ipython3",
   "version": "3.6.5"
  }
 },
 "nbformat": 4,
 "nbformat_minor": 2
}
