{
 "cells": [
  {
   "cell_type": "code",
   "execution_count": null,
   "metadata": {},
   "outputs": [
    {
     "name": "stdout",
     "output_type": "stream",
     "text": [
      "Enter roll number2\n",
      "Enter student nameshef\n",
      "2 : shef\n",
      "Enter roll number1\n",
      "Enter student nameasd\n",
      "2 : shef\n",
      "1 : asd\n",
      "Enter roll number3\n",
      "Enter student namergth\n",
      "2 : shef\n",
      "1 : asd\n",
      "3 : rgth\n",
      "Enter roll number4\n",
      "Enter student namergyj\n",
      "2 : shef\n",
      "1 : asd\n",
      "3 : rgth\n",
      "4 : rgyj\n"
     ]
    }
   ],
   "source": [
    "#Program 1\n",
    "d=dict()\n",
    "for i in range(10):\n",
    "    rn=input('Enter roll number')\n",
    "    sn=input('Enter student name')\n",
    "    d[rn]=sn\n",
    "    for i in d:\n",
    "        print(i,':',d[i])"
   ]
  },
  {
   "cell_type": "code",
   "execution_count": 1,
   "metadata": {},
   "outputs": [
    {
     "name": "stdout",
     "output_type": "stream",
     "text": [
      "{'a': 1, 'b': 2, 'c': 3}\n"
     ]
    }
   ],
   "source": [
    "#Program 2\n",
    "a={'a':1, 'b':2}\n",
    "b={'c':3}\n",
    "a.update(b)\n",
    "print(a)"
   ]
  },
  {
   "cell_type": "code",
   "execution_count": 6,
   "metadata": {},
   "outputs": [
    {
     "name": "stdout",
     "output_type": "stream",
     "text": [
      "Enter the key you want to search: 8\n",
      "ERROR!!\n"
     ]
    }
   ],
   "source": [
    "#Program 3\n",
    "a={'a':1, 'b':2}\n",
    "k=input('Enter the key you want to search: ')\n",
    "if k in a.keys():\n",
    "    print (a[k])\n",
    "else:\n",
    "    print('ERROR!!')"
   ]
  },
  {
   "cell_type": "code",
   "execution_count": 8,
   "metadata": {},
   "outputs": [
    {
     "name": "stdout",
     "output_type": "stream",
     "text": [
      "Enter the range n: 4\n",
      "{1: 1, 2: 4, 3: 9, 4: 16}\n"
     ]
    }
   ],
   "source": [
    "#Program 4\n",
    "n=int(input('Enter the range n: '))\n",
    "d={x:x*x for x in range(1,n+1)}\n",
    "print(d)"
   ]
  },
  {
   "cell_type": "code",
   "execution_count": 9,
   "metadata": {},
   "outputs": [
    {
     "name": "stdout",
     "output_type": "stream",
     "text": [
      "6\n"
     ]
    }
   ],
   "source": [
    "#Program 5\n",
    "d={'a':1,'b':2,'c':3}\n",
    "print(sum(d.values()))"
   ]
  },
  {
   "cell_type": "code",
   "execution_count": 13,
   "metadata": {},
   "outputs": [
    {
     "name": "stdout",
     "output_type": "stream",
     "text": [
      "6\n"
     ]
    }
   ],
   "source": [
    "#Program 6\n",
    "mul=1\n",
    "d={'a':1,'b':2,'c':3}\n",
    "for x in d:\n",
    "    mul=mul*d[x]\n",
    "print(mul)"
   ]
  },
  {
   "cell_type": "code",
   "execution_count": 15,
   "metadata": {},
   "outputs": [
    {
     "name": "stdout",
     "output_type": "stream",
     "text": [
      "{'a': 1, 'b': 2, 'c': 3}\n"
     ]
    }
   ],
   "source": [
    "#Program 7\n",
    "a=['a','b','c']\n",
    "b=[1,2,3]\n",
    "d=dict(zip(a,b))\n",
    "print(d)"
   ]
  },
  {
   "cell_type": "code",
   "execution_count": 46,
   "metadata": {},
   "outputs": [
    {
     "name": "stdout",
     "output_type": "stream",
     "text": [
      "{'abc': 100, 'bcd': 20, 'cde': 30, 'def': 40, 'efg': 50, 'fgh': 60, 'ghi': 70, 'ijk': 80, 'jkl': 90, 'klm': 10}\n",
      "[10, 20, 30, 40, 50, 60, 70, 80, 90, 100]\n"
     ]
    }
   ],
   "source": [
    "#Program 10\n",
    "li=[]\n",
    "d={'abc':100,'bcd':20,'cde':30,'def':40,'efg':50,'fgh':60,'ghi':70,'ijk':80,'jkl':90,'klm':10}\n",
    "print(d)\n",
    "for k in range(1,10):\n",
    "    from operator import itemgetter\n",
    "    li = sorted(d.values())\n",
    "    \n",
    "print(li)\n"
   ]
  },
  {
   "cell_type": "code",
   "execution_count": null,
   "metadata": {},
   "outputs": [],
   "source": []
  },
  {
   "cell_type": "code",
   "execution_count": null,
   "metadata": {},
   "outputs": [],
   "source": []
  }
 ],
 "metadata": {
  "kernelspec": {
   "display_name": "Python 3",
   "language": "python",
   "name": "python3"
  },
  "language_info": {
   "codemirror_mode": {
    "name": "ipython",
    "version": 3
   },
   "file_extension": ".py",
   "mimetype": "text/x-python",
   "name": "python",
   "nbconvert_exporter": "python",
   "pygments_lexer": "ipython3",
   "version": "3.6.5"
  }
 },
 "nbformat": 4,
 "nbformat_minor": 2
}
