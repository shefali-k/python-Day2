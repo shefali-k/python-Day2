{
 "cells": [
  {
   "cell_type": "code",
   "execution_count": 1,
   "metadata": {},
   "outputs": [
    {
     "name": "stdout",
     "output_type": "stream",
     "text": [
      "Enter the string: shefali\n",
      "3\n"
     ]
    }
   ],
   "source": [
    "#Program 1\n",
    "sum=0\n",
    "string={}\n",
    "string = input('Enter the string: ')\n",
    "for x in string:\n",
    "    if (x=='a'or x=='e' or x=='i'or x=='o' or x=='u'):\n",
    "        sum=sum+1\n",
    "print(sum)"
   ]
  },
  {
   "cell_type": "code",
   "execution_count": 3,
   "metadata": {},
   "outputs": [
    {
     "name": "stdout",
     "output_type": "stream",
     "text": [
      "Enter first string: shefali\n",
      "Enter second string: kanyal\n",
      "['a', 'l']\n"
     ]
    }
   ],
   "source": [
    "#Program 2\n",
    "#Find the common string in two input strings\n",
    "str1=input('Enter first string: ')\n",
    "str2=input('Enter second string: ')\n",
    "string= list(set(str1)&set(str2))\n",
    "print(string)"
   ]
  },
  {
   "cell_type": "code",
   "execution_count": 4,
   "metadata": {},
   "outputs": [
    {
     "name": "stdout",
     "output_type": "stream",
     "text": [
      "Enter first string: shefali\n",
      "Enter second string: kanyal\n",
      "['f', 'e', 's', 'h', 'i']\n"
     ]
    }
   ],
   "source": [
    "#Program 3\n",
    "#Display character present in first string but not in second string\n",
    "str1=input('Enter first string: ')\n",
    "str2=input('Enter second string: ')\n",
    "string= list(set(str1)-set(str2))\n",
    "print(string)\n"
   ]
  },
  {
   "cell_type": "code",
   "execution_count": 22,
   "metadata": {},
   "outputs": [],
   "source": [
    "#Program 4\n",
    "#Same as question 2"
   ]
  },
  {
   "cell_type": "code",
   "execution_count": 9,
   "metadata": {},
   "outputs": [
    {
     "name": "stdout",
     "output_type": "stream",
     "text": [
      "Enter first string: shefali\n",
      "Enter second string: kanyal\n",
      "['i', 'k', 's', 'y', 'f', 'e', 'n', 'h']\n"
     ]
    }
   ],
   "source": [
    "#Program 5\n",
    "#Letters in two strings but not in both\n",
    "str1=input('Enter first string: ')\n",
    "str2=input('Enter second string: ')\n",
    "string=list(set(str1)^set(str2))\n",
    "print(string)"
   ]
  },
  {
   "cell_type": "code",
   "execution_count": null,
   "metadata": {},
   "outputs": [],
   "source": []
  }
 ],
 "metadata": {
  "kernelspec": {
   "display_name": "Python 3",
   "language": "python",
   "name": "python3"
  },
  "language_info": {
   "codemirror_mode": {
    "name": "ipython",
    "version": 3
   },
   "file_extension": ".py",
   "mimetype": "text/x-python",
   "name": "python",
   "nbconvert_exporter": "python",
   "pygments_lexer": "ipython3",
   "version": "3.6.5"
  }
 },
 "nbformat": 4,
 "nbformat_minor": 2
}
